{
 "cells": [
  {
   "cell_type": "code",
   "execution_count": 1,
   "id": "1dae84b9",
   "metadata": {},
   "outputs": [
    {
     "name": "stdout",
     "output_type": "stream",
     "text": [
      "wow I think I figured it out\n"
     ]
    }
   ],
   "source": [
    "print(\"wow I think I figured it out\")"
   ]
  },
  {
   "cell_type": "code",
   "execution_count": 2,
   "id": "2beee767",
   "metadata": {},
   "outputs": [
    {
     "name": "stdout",
     "output_type": "stream",
     "text": [
      "thanks for your help\n"
     ]
    }
   ],
   "source": [
    "print(\"thanks for your help\")"
   ]
  },
  {
   "cell_type": "markdown",
   "id": "90234d41",
   "metadata": {},
   "source": [
    "### Finish up"
   ]
  },
  {
   "cell_type": "code",
   "execution_count": 3,
   "id": "4b62e042",
   "metadata": {},
   "outputs": [
    {
     "name": "stdout",
     "output_type": "stream",
     "text": [
      "finsih line\n"
     ]
    }
   ],
   "source": [
    "print(\"finsih line\")"
   ]
  },
  {
   "cell_type": "code",
   "execution_count": null,
   "id": "37d33320",
   "metadata": {},
   "outputs": [],
   "source": []
  }
 ],
 "metadata": {
  "kernelspec": {
   "display_name": "Python 3 (ipykernel)",
   "language": "python",
   "name": "python3"
  },
  "language_info": {
   "codemirror_mode": {
    "name": "ipython",
    "version": 3
   },
   "file_extension": ".py",
   "mimetype": "text/x-python",
   "name": "python",
   "nbconvert_exporter": "python",
   "pygments_lexer": "ipython3",
   "version": "3.11.4"
  }
 },
 "nbformat": 4,
 "nbformat_minor": 5
}
