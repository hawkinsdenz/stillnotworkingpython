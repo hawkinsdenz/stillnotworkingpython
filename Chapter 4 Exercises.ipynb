{
 "cells": [
  {
   "cell_type": "markdown",
   "id": "99c9eb0c",
   "metadata": {},
   "source": [
    "# Chapter 4 Exercises "
   ]
  },
  {
   "cell_type": "markdown",
   "id": "8fc86605",
   "metadata": {},
   "source": [
    "Workbench Questions"
   ]
  },
  {
   "cell_type": "markdown",
   "id": "ddfc848d",
   "metadata": {},
   "source": [
    "1."
   ]
  },
  {
   "cell_type": "markdown",
   "id": "88fe57bf",
   "metadata": {},
   "source": [
    "Write a while loop that lets the user enter a number. The number should be multiplied \n",
    "by 10, and the result assigned to a variable named product. The loop should iterate as \n",
    "long as product is less than 100"
   ]
  },
  {
   "cell_type": "code",
   "execution_count": 4,
   "id": "cbeab66a",
   "metadata": {},
   "outputs": [
    {
     "ename": "NameError",
     "evalue": "name 'true' is not defined",
     "output_type": "error",
     "traceback": [
      "\u001b[1;31m---------------------------------------------------------------------------\u001b[0m",
      "\u001b[1;31mNameError\u001b[0m                                 Traceback (most recent call last)",
      "Cell \u001b[1;32mIn[4], line 1\u001b[0m\n\u001b[1;32m----> 1\u001b[0m \u001b[38;5;28;01mwhile\u001b[39;00m true:\n\u001b[0;32m      2\u001b[0m     number\u001b[38;5;241m=\u001b[39m\u001b[38;5;28mint\u001b[39m(\u001b[38;5;28minput\u001b[39m(\u001b[38;5;124m\"\u001b[39m\u001b[38;5;124mEnter a number:\u001b[39m\u001b[38;5;124m\"\u001b[39m))\n\u001b[0;32m      3\u001b[0m     product\u001b[38;5;241m=\u001b[39mnumber\u001b[38;5;241m*\u001b[39m\u001b[38;5;241m10\u001b[39m\n",
      "\u001b[1;31mNameError\u001b[0m: name 'true' is not defined"
     ]
    }
   ],
   "source": [
    "while true:\n",
    "    number=int(input(\"Enter a number:\"))\n",
    "    product=number*10\n",
    "    if product>100:\n",
    "        break\n",
    "print(str(product))        "
   ]
  },
  {
   "cell_type": "markdown",
   "id": "825cee56",
   "metadata": {},
   "source": [
    "2. Write a for loop that uses the range function to display all odd numbers between \n",
    "1 and 100"
   ]
  },
  {
   "cell_type": "code",
   "execution_count": 6,
   "id": "da7cf0df",
   "metadata": {},
   "outputs": [
    {
     "name": "stdout",
     "output_type": "stream",
     "text": [
      "1 3 5 7 9 11 13 15 17 19 21 23 25 27 29 31 33 35 37 39 41 43 45 47 49 51 53 55 57 59 61 63 65 67 69 71 73 75 77 79 81 83 85 87 89 91 93 95 97 99 "
     ]
    }
   ],
   "source": [
    "start, end = 0, 100\n",
    "for num in range(start, end + 1):\n",
    "    \n",
    "    if num % 2 != 0:\n",
    "        print(num, end = \" \")"
   ]
  },
  {
   "cell_type": "markdown",
   "id": "1185ab68",
   "metadata": {},
   "source": [
    "# Program Exercises\n"
   ]
  },
  {
   "cell_type": "markdown",
   "id": "e0491d26",
   "metadata": {},
   "source": [
    "1.  bug collector collects bugs every day for five days. Write a program that keeps a running \n",
    "total of the number of bugs collected during the five days. The loop should ask for the \n",
    "number of bugs collected for each day, and when the loop is finished, the program should \n",
    "display the total number of bugs collected."
   ]
  },
  {
   "cell_type": "code",
   "execution_count": 8,
   "id": "8d425545",
   "metadata": {},
   "outputs": [
    {
     "name": "stdout",
     "output_type": "stream",
     "text": [
      "enter the amount of bugs collected today7\n"
     ]
    },
    {
     "ename": "NameError",
     "evalue": "name 'bugs' is not defined",
     "output_type": "error",
     "traceback": [
      "\u001b[1;31m---------------------------------------------------------------------------\u001b[0m",
      "\u001b[1;31mNameError\u001b[0m                                 Traceback (most recent call last)",
      "Cell \u001b[1;32mIn[8], line 5\u001b[0m\n\u001b[0;32m      1\u001b[0m i \u001b[38;5;241m=\u001b[39m \u001b[38;5;241m1\u001b[39m\n\u001b[0;32m      3\u001b[0m \u001b[38;5;28;01mwhile\u001b[39;00m i \u001b[38;5;241m<\u001b[39m \u001b[38;5;241m8\u001b[39m:\n\u001b[1;32m----> 5\u001b[0m     bugs \u001b[38;5;241m=\u001b[39m \u001b[38;5;28mint\u001b[39m(\u001b[38;5;28minput\u001b[39m(\u001b[38;5;124m'\u001b[39m\u001b[38;5;124menter the amount of bugs collected today\u001b[39m\u001b[38;5;124m'\u001b[39m)) \u001b[38;5;241m+\u001b[39m bugs\n\u001b[0;32m      7\u001b[0m     average \u001b[38;5;241m=\u001b[39m bugs \u001b[38;5;241m/\u001b[39m \u001b[38;5;241m7\u001b[39m \n\u001b[0;32m      9\u001b[0m     i\u001b[38;5;241m+\u001b[39m\u001b[38;5;241m=\u001b[39m\u001b[38;5;241m1\u001b[39m\n",
      "\u001b[1;31mNameError\u001b[0m: name 'bugs' is not defined"
     ]
    }
   ],
   "source": [
    "i = 1\n",
    "\n",
    "while i < 8:\n",
    "    \n",
    "    bugs = int(input('enter the amount of bugs collected today')) + bugs\n",
    "    \n",
    "    average = bugs / 7 \n",
    "    \n",
    "    i+=1\n",
    "    \n",
    "print('average amount of bugs collected in a week is:', average)    "
   ]
  },
  {
   "cell_type": "markdown",
   "id": "2989610b",
   "metadata": {},
   "source": [
    "4.. Distance Traveled\n",
    "The distance a vehicle travels can be calculated as follows:\n",
    "distance 5 speed 3 time\n",
    "For example, if a train travels 40 miles per hour for three hours, the distance traveled is \n",
    "120 miles. Write a program that asks the user for the speed of a vehicle (in miles per hour) \n",
    "and the number of hours it has traveled. It should then use a loop to display the distance \n",
    "the vehicle has traveled for each hour of that time period. Here is an example of the desired \n",
    "output:"
   ]
  },
  {
   "cell_type": "code",
   "execution_count": 10,
   "id": "b1889edd",
   "metadata": {},
   "outputs": [
    {
     "ename": "IndentationError",
     "evalue": "unindent does not match any outer indentation level (<tokenize>, line 17)",
     "output_type": "error",
     "traceback": [
      "\u001b[1;36m  File \u001b[1;32m<tokenize>:17\u001b[1;36m\u001b[0m\n\u001b[1;33m    g = 'n'\u001b[0m\n\u001b[1;37m    ^\u001b[0m\n\u001b[1;31mIndentationError\u001b[0m\u001b[1;31m:\u001b[0m unindent does not match any outer indentation level\n"
     ]
    }
   ],
   "source": [
    "g = 'y'\n",
    "while g == 'y' or g == 'y'\n",
    "speed = int(input('Enter mph: '))\n",
    "time = int(input('Enter hours:'))\n",
    "\n",
    "if time <= 0 or speed <=0:\n",
    "    print('Invalid Hours and mph must be greater than 0')\n",
    "else:\n",
    "    for t in range(time):\n",
    "        distance = speed * (t+1)             // Use t+1 instead of time\n",
    "        \n",
    "        \n",
    "        print(t+1,':', distance)\n",
    "        # time = time * 2\n",
    "        \n",
    "        \n",
    "      g = 'n'\n",
    "print('End')\n",
    "\n",
    "\n",
    "Input:\n",
    "40\n",
    "3\n",
    "\n",
    "\n",
    "output:\n",
    "(1, ':', 40)\n",
    "(2, ':', 80)\n",
    "(3, ':', 120)\n",
    "End"
   ]
  },
  {
   "cell_type": "markdown",
   "id": "5867a0d9",
   "metadata": {},
   "source": [
    "11.  “sleep debt” represents the difference between a person’s desirable and actual amount \n",
    "of sleep. Write a program that prompts the user to enter how many hours they slept each \n",
    "day over a period of seven days. Using 8 hours per day as the desirable amount of sleep, \n",
    "determine their sleep debt by calculating the total hours of sleep they got over the seven-day \n",
    "period and subtracting that from the total hours of sleep they should have got. If the user \n",
    "does not have a sleep debt, display a message expressing your jealousy\n"
   ]
  },
  {
   "cell_type": "code",
   "execution_count": 12,
   "id": "f6a7983a",
   "metadata": {},
   "outputs": [
    {
     "name": "stdout",
     "output_type": "stream",
     "text": [
      "How many sleep hours on day1?4\n",
      "How many sleep hours on day2?5\n",
      "How many sleep hours on day3?5\n",
      "How many sleep hours on day4?4\n",
      "How many sleep hours on day5?2\n",
      "How many sleep hours on day6?4\n",
      "How many sleep hours on day7?5\n",
      "\n",
      "Total sleep debt = 27.00\n",
      "\n",
      "You need more sleep!\n",
      "\n"
     ]
    }
   ],
   "source": [
    "DAYS = 7\n",
    "REQUIRED_SLEEP_AMOUNT = DAYS * 8\n",
    "\n",
    "hours_slept = 0.0\n",
    "total_sleep_hours = 0.0\n",
    "\n",
    "\n",
    "for day in range(DAYS):\n",
    "    hours_slept = float(input(\"How many sleep hours on day\" + format(day + 1) + \"?\" ))\n",
    "    \n",
    "    while hours_slept < 0:\n",
    "        hours_slept = float(input(\"Error: Enter a positive number: \"))\n",
    "        \n",
    "    total_sleep_hours += hours_slept\n",
    "    \n",
    "    \n",
    "sleep_debt = REQUIRED_SLEEP_AMOUNT - total_sleep_hours\n",
    "\n",
    "output = \"\\nTotal sleep debt = \" + format(sleep_debt, '.2f') + \"\\n\"\n",
    "\n",
    "if sleep_debt > 0:\n",
    "    output += \"\\nYou need more sleep!\\n\"\n",
    "    \n",
    "else:\n",
    "    output += \"\\nYou are sleeping well!\\n\"\n",
    "    \n",
    "print(output)    \n",
    "    "
   ]
  },
  {
   "cell_type": "code",
   "execution_count": null,
   "id": "6bef51bd",
   "metadata": {},
   "outputs": [],
   "source": []
  }
 ],
 "metadata": {
  "kernelspec": {
   "display_name": "Python 3 (ipykernel)",
   "language": "python",
   "name": "python3"
  },
  "language_info": {
   "codemirror_mode": {
    "name": "ipython",
    "version": 3
   },
   "file_extension": ".py",
   "mimetype": "text/x-python",
   "name": "python",
   "nbconvert_exporter": "python",
   "pygments_lexer": "ipython3",
   "version": "3.11.4"
  }
 },
 "nbformat": 4,
 "nbformat_minor": 5
}
