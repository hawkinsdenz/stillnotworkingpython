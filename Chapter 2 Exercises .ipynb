{
 "cells": [
  {
   "cell_type": "markdown",
   "id": "33857b98",
   "metadata": {},
   "source": [
    "## Chapter 2 Workbench Problem 9"
   ]
  },
  {
   "cell_type": "markdown",
   "id": "3f8d7f4d",
   "metadata": {},
   "source": [
    "In problem 9 we are presented with two statements. \"Num = 99\" and then \"Num = 5\". We are asked what would display once the code is ran. \"print(Num)\" "
   ]
  },
  {
   "cell_type": "code",
   "execution_count": 7,
   "id": "e6acf255",
   "metadata": {},
   "outputs": [
    {
     "name": "stdout",
     "output_type": "stream",
     "text": [
      "99\n"
     ]
    }
   ],
   "source": [
    "Num = 99\n",
    "print(Num)"
   ]
  },
  {
   "cell_type": "code",
   "execution_count": 8,
   "id": "c119e95b",
   "metadata": {},
   "outputs": [
    {
     "name": "stdout",
     "output_type": "stream",
     "text": [
      "5\n"
     ]
    }
   ],
   "source": [
    "Num = 5\n",
    "print(Num)"
   ]
  },
  {
   "cell_type": "markdown",
   "id": "00200f2b",
   "metadata": {},
   "source": [
    "9. The Int number of 5 would display because we changed what Num is = to. "
   ]
  },
  {
   "cell_type": "markdown",
   "id": "49e10d44",
   "metadata": {},
   "source": [
    "## Program Exercises Problem 1\n"
   ]
  },
  {
   "cell_type": "markdown",
   "id": "2de66353",
   "metadata": {},
   "source": [
    "In problem 1 we are asked to write a program that displays our name, address, phone number and major."
   ]
  },
  {
   "cell_type": "code",
   "execution_count": 29,
   "id": "b5406518",
   "metadata": {},
   "outputs": [
    {
     "name": "stdout",
     "output_type": "stream",
     "text": [
      "Denzel 301 Parkwest Drive Lansing, Michigan 48917 5183640939 Computer Security\n"
     ]
    }
   ],
   "source": [
    "Name = \"Denzel\"\n",
    "Address = \"301 Parkwest Drive Lansing, Michigan 48917\"\n",
    "Phone = \"5183640939\"\n",
    "Major = \"Computer Security\" #display name,address, phone number and major\n",
    "\n",
    "print(Name, Address, Phone, Major)\n"
   ]
  },
  {
   "cell_type": "markdown",
   "id": "a006cdad",
   "metadata": {},
   "source": [
    "# Program Exercises Problem 9 (planting Grapevines)"
   ]
  },
  {
   "cell_type": "markdown",
   "id": "bdb883a7",
   "metadata": {},
   "source": []
  }
 ],
 "metadata": {
  "kernelspec": {
   "display_name": "Python 3 (ipykernel)",
   "language": "python",
   "name": "python3"
  },
  "language_info": {
   "codemirror_mode": {
    "name": "ipython",
    "version": 3
   },
   "file_extension": ".py",
   "mimetype": "text/x-python",
   "name": "python",
   "nbconvert_exporter": "python",
   "pygments_lexer": "ipython3",
   "version": "3.11.4"
  }
 },
 "nbformat": 4,
 "nbformat_minor": 5
}
