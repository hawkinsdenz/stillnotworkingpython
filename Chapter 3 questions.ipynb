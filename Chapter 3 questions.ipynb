{
 "cells": [
  {
   "cell_type": "markdown",
   "id": "02cfe088",
   "metadata": {},
   "source": [
    "# Chapter 3 Work Bench Questions"
   ]
  },
  {
   "cell_type": "markdown",
   "id": "14d0d4f8",
   "metadata": {},
   "source": [
    "4."
   ]
  },
  {
   "cell_type": "code",
   "execution_count": 24,
   "id": "0f1f6330",
   "metadata": {
    "scrolled": true
   },
   "outputs": [
    {
     "ename": "IndentationError",
     "evalue": "expected an indented block after 'else' statement on line 3 (2036982334.py, line 4)",
     "output_type": "error",
     "traceback": [
      "\u001b[1;36m  Cell \u001b[1;32mIn[24], line 4\u001b[1;36m\u001b[0m\n\u001b[1;33m    if score >= B_score:\u001b[0m\n\u001b[1;37m    ^\u001b[0m\n\u001b[1;31mIndentationError\u001b[0m\u001b[1;31m:\u001b[0m expected an indented block after 'else' statement on line 3\n"
     ]
    }
   ],
   "source": [
    "if score >= A_score:\n",
    "    print('Your grade is A.')\n",
    "else:\n",
    "if score >= B_score:\n",
    "    print('Your grade is B.')\n"
   ]
  },
  {
   "cell_type": "code",
   "execution_count": 26,
   "id": "0e0e28d0",
   "metadata": {},
   "outputs": [
    {
     "ename": "IndentationError",
     "evalue": "unindent does not match any outer indentation level (<tokenize>, line 3)",
     "output_type": "error",
     "traceback": [
      "\u001b[1;36m  File \u001b[1;32m<tokenize>:3\u001b[1;36m\u001b[0m\n\u001b[1;33m    else:\u001b[0m\n\u001b[1;37m    ^\u001b[0m\n\u001b[1;31mIndentationError\u001b[0m\u001b[1;31m:\u001b[0m unindent does not match any outer indentation level\n"
     ]
    }
   ],
   "source": [
    "if score >= A_score:\n",
    "        print('Your grade is A')\n",
    "    else:\n",
    "        if score >= B_score:\n",
    "            print('Your grade is B')"
   ]
  },
  {
   "cell_type": "code",
   "execution_count": 28,
   "id": "0c0cdba2",
   "metadata": {},
   "outputs": [
    {
     "ename": "SyntaxError",
     "evalue": "expected ':' (2797349578.py, line 15)",
     "output_type": "error",
     "traceback": [
      "\u001b[1;36m  Cell \u001b[1;32mIn[28], line 15\u001b[1;36m\u001b[0m\n\u001b[1;33m    if score >= C_SCORE\u001b[0m\n\u001b[1;37m                       ^\u001b[0m\n\u001b[1;31mSyntaxError\u001b[0m\u001b[1;31m:\u001b[0m expected ':'\n"
     ]
    }
   ],
   "source": [
    "A_SCORE = 90\n",
    "B_SCORE = 80\n",
    "C_SCORE = 70\n",
    "D_SCORE = 60\n",
    "\n",
    "score = int(input('Enter your test score.'))\n",
    "\n",
    "\n",
    "if score >= A_SCORE:\n",
    "    print('Your grade is A')\n",
    "else:\n",
    "    if score >= B_SCORE:\n",
    "        print('Your grade is B.')\n",
    "    else:\n",
    "        if score >= C_SCORE\n",
    "            print('Print your grade is C.')\n",
    "        else:\n",
    "            if score >= D_SCORE:\n",
    "                print('Your grade is D.')\n",
    "            else:\n",
    "                print('Your grade is F.')"
   ]
  },
  {
   "cell_type": "markdown",
   "id": "b4f5da05",
   "metadata": {},
   "source": [
    "5."
   ]
  },
  {
   "cell_type": "code",
   "execution_count": 30,
   "id": "06a40e84",
   "metadata": {},
   "outputs": [
    {
     "ename": "SyntaxError",
     "evalue": "invalid syntax (1754720285.py, line 1)",
     "output_type": "error",
     "traceback": [
      "\u001b[1;36m  Cell \u001b[1;32mIn[30], line 1\u001b[1;36m\u001b[0m\n\u001b[1;33m    amount 1 >= 10 and amount 2<= 100\u001b[0m\n\u001b[1;37m           ^\u001b[0m\n\u001b[1;31mSyntaxError\u001b[0m\u001b[1;31m:\u001b[0m invalid syntax\n"
     ]
    }
   ],
   "source": [
    "amount1 >= 10 and amount2<= 100"
   ]
  },
  {
   "cell_type": "markdown",
   "id": "1fba079d",
   "metadata": {},
   "source": [
    "# Programming Exercises "
   ]
  },
  {
   "cell_type": "markdown",
   "id": "0457fc24",
   "metadata": {},
   "source": [
    "1."
   ]
  },
  {
   "cell_type": "code",
   "execution_count": 31,
   "id": "d34ae2da",
   "metadata": {},
   "outputs": [
    {
     "name": "stdout",
     "output_type": "stream",
     "text": [
      "\n",
      "enter an integer:5\n",
      "Positive\n",
      "odd\n"
     ]
    }
   ],
   "source": [
    "user_number = int(input('\\nenter an integer:'))\n",
    "\n",
    "if user_number > 0:\n",
    "    print(\"Positive\")\n",
    "elif user_number < 0:\n",
    "    print(\"Negative\")\n",
    "elif user_number == 0:\n",
    "    print(\"Zero\")\n",
    "    \n",
    "if user_number % 2 == 0:\n",
    "    print(\"Even\")\n",
    "else:\n",
    "    print(\"odd\")"
   ]
  },
  {
   "cell_type": "markdown",
   "id": "14ac77a7",
   "metadata": {},
   "source": [
    "5."
   ]
  },
  {
   "cell_type": "markdown",
   "id": "5e44fb26",
   "metadata": {},
   "source": [
    "# Scientists measure an object’s mass in kilograms and its weight in newtons. If you know \n",
    "the amount of mass of an object in kilograms, you can calculate its weight in newtons with \n",
    "the following formula:\n",
    "weight 5 mass 3 9.8\n",
    "Write a program that asks the user to enter an object’s mass, then calculates its weight. If \n",
    "the object weighs more than 500 newtons, display a message indicating that it is too heavy. \n",
    "If the object weighs less than 100 newtons, display a message indicating that it is too light."
   ]
  },
  {
   "cell_type": "code",
   "execution_count": 32,
   "id": "7d1759ab",
   "metadata": {},
   "outputs": [
    {
     "name": "stdout",
     "output_type": "stream",
     "text": [
      "enter objects mass70\n",
      "the object weighing686.0newtons too heavy\n"
     ]
    }
   ],
   "source": [
    "mass = float(input(\"enter objects mass\"))\n",
    "weight = mass * 9.8\n",
    "if weight > 500:\n",
    "    print(\"the object weighing\"+str(weight)+\"newtons too heavy\")\n",
    "elif weight<100:\n",
    "    print(\"the object weighing\"+str(weight)+\"newtons too light\")"
   ]
  },
  {
   "cell_type": "markdown",
   "id": "e5a0af5a",
   "metadata": {},
   "source": [
    "18. You have a group of friends coming to visit for your high school reunion, and you want \n",
    "to take them out to eat at a local restaurant. You aren’t sure if any of them have dietary \n",
    "restrictions, but your restaurant choices are as follows:\n",
    "Joe’s Gourmet Burgers—Vegetarian: No, Vegan: No, Gluten-Free: No\n",
    "Main Street Pizza Company—Vegetarian: Yes, Vegan: No, Gluten-Free: Yes\n",
    "Corner Café—Vegetarian: Yes, Vegan: Yes, Gluten-Free: Yes\n",
    "Mama’s Fine Italian—Vegetarian: Yes, Vegan: No, Gluten-Free: No\n",
    "The Chef’s Kitchen—Vegetarian: Yes, Vegan: Yes, Gluten-Free: Yes\n",
    "Write a program that asks whether any members of your party are vegetarian, vegan, or \n",
    "gluten-free, to which then displays only the restaurants to which you may take the group. \n",
    "Here is an example of the program’s output"
   ]
  },
  {
   "cell_type": "markdown",
   "id": "40a6651d",
   "metadata": {},
   "source": [
    "# find out who eats what "
   ]
  },
  {
   "cell_type": "code",
   "execution_count": 34,
   "id": "99290076",
   "metadata": {},
   "outputs": [
    {
     "ename": "IndentationError",
     "evalue": "unindent does not match any outer indentation level (<tokenize>, line 20)",
     "output_type": "error",
     "traceback": [
      "\u001b[1;36m  File \u001b[1;32m<tokenize>:20\u001b[1;36m\u001b[0m\n\u001b[1;33m    else:\u001b[0m\n\u001b[1;37m    ^\u001b[0m\n\u001b[1;31mIndentationError\u001b[0m\u001b[1;31m:\u001b[0m unindent does not match any outer indentation level\n"
     ]
    }
   ],
   "source": [
    "vegetarian = input(Is anyone in your birthday party a vegetarian?\")\n",
    "\n",
    "if vegetarian == \"yes\" or vegetarian == \"no\":\n",
    "    vegan= input(\"Is anyone in your party a vegan?\")\n",
    "    \n",
    "    if vegan == \"yes\" or vegan == \"no\":\n",
    "        gluten_free = input(\"Is anyone in your party gluten-free?\")\n",
    "               \n",
    "        if gluten_free == \"yes\" or glutem_free == \"no\":\n",
    "            message = \"\\nHere are your restaurant choices:\\n\"\n",
    "                   \n",
    "            if vegetarian == \"yes\":\n",
    "                   \n",
    "               if vegan == \"yes\":\n",
    "                   \n",
    "                   if gluten_free == \"yes\" or gluten_free == \"no\":\n",
    "                   \n",
    "                        message += \"Corner Cafe\\n\" + \\\n",
    "                                   \"The Chef's Kitchen\\n\"\n",
    "       else:\n",
    "           if gluten_free == \"yes\":\n",
    "               message += \"Main Street Pizza Company\\n\" + \\\n",
    "                           \"Corner Cafe\\n\" + \\\n",
    "                           \"The Chef's Kitchen\\n\"\n",
    "else: # vegetarian == \"no\"\n",
    "     \n",
    "    if vegan == \"yes\":\n",
    "                 \n",
    "       if gluten_free == \"yes\" or gluten_free == \"no\":\n",
    "           message += \"Corner Cafe\\nThe Chef's Kitchen\\n\"\n",
    "                   \n",
    "    else: # vegan == \"no\"\n",
    "                   \n",
    "       if gluten_free == \"yes\":\n",
    "           message += \"Main Street Pizza Company\\n\" + \\\n",
    "                       \"Corner Cafe\\n\" + \\\n",
    "                       \"The Chef's Kitchen\\n\"\n",
    "                   \n",
    "        else: # gluten free == \"no\"\n",
    "                   \n",
    "            message += \"Joe's Gourmet Burgers\\n\" + \\\n",
    "                       \"Main Street Piiza Company\\n\" + \\\n",
    "                       \"Corner Cafe\\n\" + \\ \n",
    "                       \"Mama's Fine Italian\\n\" + \\\n",
    "                       \"The Chef's Kitchen\\n\"\n",
    "      else:\n",
    "           message = \"Enter either 'yes' or 'no' .\\nRerun the program and try again.\"  \n",
    "    else:\n",
    "        message = \"Enter either 'yes' or 'no' .\\nRerun the program and try again.\"\n",
    "else:\n",
    "    message = \"Enter either 'yes' or 'no' .\\nRerun the program and try again.\"     \n",
    "                   \n",
    "print(message)                   \n",
    "                     "
   ]
  },
  {
   "cell_type": "code",
   "execution_count": null,
   "id": "9e21c91a",
   "metadata": {},
   "outputs": [],
   "source": []
  }
 ],
 "metadata": {
  "kernelspec": {
   "display_name": "Python 3 (ipykernel)",
   "language": "python",
   "name": "python3"
  },
  "language_info": {
   "codemirror_mode": {
    "name": "ipython",
    "version": 3
   },
   "file_extension": ".py",
   "mimetype": "text/x-python",
   "name": "python",
   "nbconvert_exporter": "python",
   "pygments_lexer": "ipython3",
   "version": "3.11.4"
  }
 },
 "nbformat": 4,
 "nbformat_minor": 5
}
